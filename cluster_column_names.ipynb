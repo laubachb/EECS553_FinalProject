{
 "cells": [
  {
   "cell_type": "code",
   "execution_count": 1,
   "metadata": {},
   "outputs": [
    {
     "name": "stderr",
     "output_type": "stream",
     "text": [
      "/Library/Frameworks/Python.framework/Versions/3.11/lib/python3.11/site-packages/tqdm/auto.py:21: TqdmWarning: IProgress not found. Please update jupyter and ipywidgets. See https://ipywidgets.readthedocs.io/en/stable/user_install.html\n",
      "  from .autonotebook import tqdm as notebook_tqdm\n",
      "2024-12-03 12:53:20.759720: I tensorflow/core/platform/cpu_feature_guard.cc:182] This TensorFlow binary is optimized to use available CPU instructions in performance-critical operations.\n",
      "To enable the following instructions: AVX2 FMA, in other operations, rebuild TensorFlow with the appropriate compiler flags.\n"
     ]
    }
   ],
   "source": [
    "import numpy as np\n",
    "from sklearn.cluster import KMeans\n",
    "from sentence_transformers import SentenceTransformer"
   ]
  },
  {
   "cell_type": "code",
   "execution_count": 3,
   "metadata": {},
   "outputs": [
    {
     "name": "stdout",
     "output_type": "stream",
     "text": [
      "[1 0 1 0 1 0 0 0 0]\n"
     ]
    },
    {
     "name": "stderr",
     "output_type": "stream",
     "text": [
      "/Library/Frameworks/Python.framework/Versions/3.11/lib/python3.11/site-packages/sklearn/cluster/_kmeans.py:1416: FutureWarning: The default value of `n_init` will change from 10 to 'auto' in 1.4. Set the value of `n_init` explicitly to suppress the warning\n",
      "  super()._check_params_vs_input(X, default_n_init=10)\n"
     ]
    }
   ],
   "source": [
    "# Define a list of column names related to health and medical data\n",
    "column_names = [\n",
    "    \"systolic blood pressure\",  # Systolic blood pressure measurement\n",
    "    \"tobacco: cumulative tobacco (kg)\",  # Cumulative tobacco usage in kilograms\n",
    "    \"low density lipoprotein cholesterol\",  # LDL cholesterol level\n",
    "    \"adiposity\",  # Adiposity or fatness of the body\n",
    "    \"famhist: family history of heart disease (Present, Absent)\",  # Family history of heart disease\n",
    "    \"typea: type-A behavior\",  # Type-A personality traits\n",
    "    \"obesity\",  # Obesity indicator\n",
    "    \"alcohol: current alcohol consumption\",  # Current alcohol consumption status\n",
    "    \"age: age at onset\"  # Age at onset of a health condition (e.g., disease)\n",
    "]\n",
    "\n",
    "# Initialize the SentenceTransformer model with a pre-trained BERT model\n",
    "# 'bert-base-nli-stsb-mean-tokens' is a BERT-based model fine-tuned for sentence embeddings\n",
    "embedder = SentenceTransformer('bert-base-nli-stsb-mean-tokens')\n",
    "\n",
    "# Use the embedder to convert the list of column names into embeddings (numeric representations)\n",
    "# The embeddings will capture semantic meaning of each column name\n",
    "column_name_embeddings = embedder.encode(column_names)\n",
    "\n",
    "# Initialize the KMeans clustering model to group the column names into 2 clusters\n",
    "clustering_model = KMeans(n_clusters=2)\n",
    "\n",
    "# Fit the KMeans model on the column name embeddings to create the clusters\n",
    "clustering_model.fit(column_name_embeddings)\n",
    "\n",
    "# Retrieve the cluster labels (i.e., which cluster each column name belongs to)\n",
    "cluster_assignment = clustering_model.labels_\n",
    "\n",
    "# Print the cluster assignments as a NumPy array\n",
    "# This shows which column name is assigned to which cluster (0 or 1)\n",
    "print(np.array(cluster_assignment))\n"
   ]
  },
  {
   "cell_type": "code",
   "execution_count": null,
   "metadata": {},
   "outputs": [],
   "source": []
  }
 ],
 "metadata": {
  "kernelspec": {
   "display_name": "base",
   "language": "python",
   "name": "python3"
  },
  "language_info": {
   "codemirror_mode": {
    "name": "ipython",
    "version": 3
   },
   "file_extension": ".py",
   "mimetype": "text/x-python",
   "name": "python",
   "nbconvert_exporter": "python",
   "pygments_lexer": "ipython3",
   "version": "3.11.3"
  }
 },
 "nbformat": 4,
 "nbformat_minor": 2
}
