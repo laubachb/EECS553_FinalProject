{
 "cells": [
  {
   "cell_type": "code",
   "execution_count": 3,
   "metadata": {},
   "outputs": [
    {
     "name": "stderr",
     "output_type": "stream",
     "text": [
      "/Library/Frameworks/Python.framework/Versions/3.11/lib/python3.11/site-packages/tqdm/auto.py:21: TqdmWarning: IProgress not found. Please update jupyter and ipywidgets. See https://ipywidgets.readthedocs.io/en/stable/user_install.html\n",
      "  from .autonotebook import tqdm as notebook_tqdm\n",
      "2024-12-03 12:46:15.190370: I tensorflow/core/platform/cpu_feature_guard.cc:182] This TensorFlow binary is optimized to use available CPU instructions in performance-critical operations.\n",
      "To enable the following instructions: AVX2 FMA, in other operations, rebuild TensorFlow with the appropriate compiler flags.\n"
     ]
    }
   ],
   "source": [
    "import numpy as np\n",
    "from sklearn.cluster import KMeans\n",
    "from sentence_transformers import SentenceTransformer"
   ]
  },
  {
   "cell_type": "code",
   "execution_count": 5,
   "metadata": {},
   "outputs": [],
   "source": [
    "column_names = [\n",
    "    \"systolic blood pressure\",\n",
    "    \"tobacco: cumulative tobacco (kg)\",\n",
    "    \"low density lipoprotein cholesterol\",\n",
    "    \"adiposity\",\n",
    "    \"famhist: family history of heart disease (Present, Absent)\",\n",
    "    \"typea: type-A behavior\",\n",
    "    \"obesity\",\n",
    "    \"alcohol: current alcohol consumption\",\n",
    "    \"age: age at onset\"\n",
    "    ]\n",
    "embedder = SentenceTransformer('bert-base-nli-stsb-mean-tokens')\n",
    "column_name_embeddings = embedder.encode(column_names)\n",
    "clustering_model = KMeans(n_clusters=2)\n",
    "clustering_model.fit(column_name_embeddings)\n",
    "cluster_assignment = clustering_model.labels_\n",
    "print(np.array(cluster_assignment))"
   ]
  },
  {
   "cell_type": "code",
   "execution_count": null,
   "metadata": {},
   "outputs": [],
   "source": []
  }
 ],
 "metadata": {
  "kernelspec": {
   "display_name": "base",
   "language": "python",
   "name": "python3"
  },
  "language_info": {
   "codemirror_mode": {
    "name": "ipython",
    "version": 3
   },
   "file_extension": ".py",
   "mimetype": "text/x-python",
   "name": "python",
   "nbconvert_exporter": "python",
   "pygments_lexer": "ipython3",
   "version": "3.11.3"
  }
 },
 "nbformat": 4,
 "nbformat_minor": 2
}
