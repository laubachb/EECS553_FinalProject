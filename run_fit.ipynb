{
 "cells": [
  {
   "cell_type": "code",
   "execution_count": null,
   "metadata": {},
   "outputs": [],
   "source": [
    "import numpy as np\n",
    "import torch\n",
    "import torch.optim as optim\n",
    "from data_loader import load_saheart\n",
    "from train import ContrastiveEncoder,train_dnn\n",
    "from semanticmask_augmentation import MyDataset,MyDataset_position,MyDataset_description,MyDataset_test\n",
    "import random,os\n",
    "from evaluate import evaluate\n",
    "from evaluate_position import evaluate_position"
   ]
  }
 ],
 "metadata": {
  "language_info": {
   "name": "python"
  }
 },
 "nbformat": 4,
 "nbformat_minor": 2
}
